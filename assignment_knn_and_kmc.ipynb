{
 "cells": [
  {
   "cell_type": "markdown",
   "id": "f7ef20f0-722f-4240-8a79-437d4a3b8832",
   "metadata": {},
   "source": [
    "## Assignment 3: $k$ Nearest Neighbor and $k$ Means Clustering\n",
    "\n",
    "## **Do three questions.**\n",
    "\n",
    "`! git clone https://www.github.com/DS3001/assignment3`"
   ]
  },
  {
   "cell_type": "markdown",
   "id": "d0f34497-2d71-4705-ac63-c0532e545022",
   "metadata": {},
   "source": [
    "**Q1.** This question is a case study for $k$ nearest neighbor. The target variable `y` is `Purchase` and the features of interest are `Age` and `AnnualSalary`.\n",
    "\n",
    "1. Load the `./data/car_data.csv` data. Look at the head and dimensions of the data.\n",
    "2. Summarize the variables (`User.ID`, `Gender`, `Age`, `AnnualSalary`, `Purchase`). Are there any missings to clean? Convert the `Gender` categorical variable into a dummy variable that takes the value 0 for male and 1 for female. Create a matrix $X$ of predictors including `Age` and `AnnualSalary`, and an outcome $y$ equaling `Purchase`.\n",
    "3. MaxMin-normalize `Age` and `AnnualSalary` in `X`.\n",
    "4. Split the sample into a ~80% training dataset and a ~20% testing dataset.\n",
    "5. Treat this as a classification problem: The model is supposed to predict 0 or 1 for each customer, classifying them as a purchaser or non-purchaser. Use sklearn to determine the optimal number of neighbors $k$ to use.\n",
    "6. Run the model for the optimal number of neighbors on the testing data. Cross tabulate the predicted outcomes against the actual outcomes; this is called a **confusion matrix**. How often does the model predict a sale when one fails to occur? How often does the model predict no sale when one does occur? Overall, does it provide accurate predictions?\n",
    "7. Now, compute confusion matrices separately for men and women, as in part 6. Does the model make more accurate predictions for one sex or the other? Explain. (Performance of algorithms on population subgroups is a growing topic in data science.)"
   ]
  },
  {
   "cell_type": "code",
   "execution_count": 1,
   "id": "aee59289",
   "metadata": {},
   "outputs": [
    {
     "name": "stdout",
     "output_type": "stream",
     "text": [
      "Car data shape: (1000, 5)\n",
      "Car data columns: Index(['User ID', 'Gender', 'Age', 'AnnualSalary', 'Purchased'], dtype='object')\n"
     ]
    },
    {
     "data": {
      "text/html": [
       "<div>\n",
       "<style scoped>\n",
       "    .dataframe tbody tr th:only-of-type {\n",
       "        vertical-align: middle;\n",
       "    }\n",
       "\n",
       "    .dataframe tbody tr th {\n",
       "        vertical-align: top;\n",
       "    }\n",
       "\n",
       "    .dataframe thead th {\n",
       "        text-align: right;\n",
       "    }\n",
       "</style>\n",
       "<table border=\"1\" class=\"dataframe\">\n",
       "  <thead>\n",
       "    <tr style=\"text-align: right;\">\n",
       "      <th></th>\n",
       "      <th>User ID</th>\n",
       "      <th>Gender</th>\n",
       "      <th>Age</th>\n",
       "      <th>AnnualSalary</th>\n",
       "      <th>Purchased</th>\n",
       "    </tr>\n",
       "  </thead>\n",
       "  <tbody>\n",
       "    <tr>\n",
       "      <th>0</th>\n",
       "      <td>385</td>\n",
       "      <td>Male</td>\n",
       "      <td>35</td>\n",
       "      <td>20000</td>\n",
       "      <td>0</td>\n",
       "    </tr>\n",
       "    <tr>\n",
       "      <th>1</th>\n",
       "      <td>681</td>\n",
       "      <td>Male</td>\n",
       "      <td>40</td>\n",
       "      <td>43500</td>\n",
       "      <td>0</td>\n",
       "    </tr>\n",
       "    <tr>\n",
       "      <th>2</th>\n",
       "      <td>353</td>\n",
       "      <td>Male</td>\n",
       "      <td>49</td>\n",
       "      <td>74000</td>\n",
       "      <td>0</td>\n",
       "    </tr>\n",
       "    <tr>\n",
       "      <th>3</th>\n",
       "      <td>895</td>\n",
       "      <td>Male</td>\n",
       "      <td>40</td>\n",
       "      <td>107500</td>\n",
       "      <td>1</td>\n",
       "    </tr>\n",
       "    <tr>\n",
       "      <th>4</th>\n",
       "      <td>661</td>\n",
       "      <td>Male</td>\n",
       "      <td>25</td>\n",
       "      <td>79000</td>\n",
       "      <td>0</td>\n",
       "    </tr>\n",
       "  </tbody>\n",
       "</table>\n",
       "</div>"
      ],
      "text/plain": [
       "   User ID Gender  Age  AnnualSalary  Purchased\n",
       "0      385   Male   35         20000          0\n",
       "1      681   Male   40         43500          0\n",
       "2      353   Male   49         74000          0\n",
       "3      895   Male   40        107500          1\n",
       "4      661   Male   25         79000          0"
      ]
     },
     "execution_count": 1,
     "metadata": {},
     "output_type": "execute_result"
    }
   ],
   "source": [
    "import numpy as np\n",
    "import pandas as pd\n",
    "import seaborn as sns\n",
    "\n",
    "# Part 1 - Load the data\n",
    "car_data = pd.read_csv(\"./data/car_data.csv\")\n",
    "print(\"Car data shape:\", car_data.shape)\n",
    "print(\"Car data columns:\", car_data.columns)\n",
    "car_data.head()"
   ]
  },
  {
   "cell_type": "code",
   "execution_count": 2,
   "id": "b29d4f0d",
   "metadata": {},
   "outputs": [
    {
     "name": "stdout",
     "output_type": "stream",
     "text": [
      "Types of variables:\n",
      "User ID          int64\n",
      "Gender          object\n",
      "Age              int64\n",
      "AnnualSalary     int64\n",
      "Purchased        int64\n",
      "dtype: object \n",
      "\n",
      "<class 'pandas.core.frame.DataFrame'>\n",
      "RangeIndex: 1000 entries, 0 to 999\n",
      "Data columns (total 5 columns):\n",
      " #   Column        Non-Null Count  Dtype \n",
      "---  ------        --------------  ----- \n",
      " 0   User ID       1000 non-null   int64 \n",
      " 1   Gender        1000 non-null   object\n",
      " 2   Age           1000 non-null   int64 \n",
      " 3   AnnualSalary  1000 non-null   int64 \n",
      " 4   Purchased     1000 non-null   int64 \n",
      "dtypes: int64(4), object(1)\n",
      "memory usage: 39.2+ KB\n"
     ]
    },
    {
     "data": {
      "text/html": [
       "<div>\n",
       "<style scoped>\n",
       "    .dataframe tbody tr th:only-of-type {\n",
       "        vertical-align: middle;\n",
       "    }\n",
       "\n",
       "    .dataframe tbody tr th {\n",
       "        vertical-align: top;\n",
       "    }\n",
       "\n",
       "    .dataframe thead th {\n",
       "        text-align: right;\n",
       "    }\n",
       "</style>\n",
       "<table border=\"1\" class=\"dataframe\">\n",
       "  <thead>\n",
       "    <tr style=\"text-align: right;\">\n",
       "      <th></th>\n",
       "      <th>User ID</th>\n",
       "      <th>Age</th>\n",
       "      <th>AnnualSalary</th>\n",
       "      <th>Purchased</th>\n",
       "    </tr>\n",
       "  </thead>\n",
       "  <tbody>\n",
       "    <tr>\n",
       "      <th>count</th>\n",
       "      <td>1000.000000</td>\n",
       "      <td>1000.000000</td>\n",
       "      <td>1000.000000</td>\n",
       "      <td>1000.000000</td>\n",
       "    </tr>\n",
       "    <tr>\n",
       "      <th>mean</th>\n",
       "      <td>500.500000</td>\n",
       "      <td>40.106000</td>\n",
       "      <td>72689.000000</td>\n",
       "      <td>0.402000</td>\n",
       "    </tr>\n",
       "    <tr>\n",
       "      <th>std</th>\n",
       "      <td>288.819436</td>\n",
       "      <td>10.707073</td>\n",
       "      <td>34488.341867</td>\n",
       "      <td>0.490547</td>\n",
       "    </tr>\n",
       "    <tr>\n",
       "      <th>min</th>\n",
       "      <td>1.000000</td>\n",
       "      <td>18.000000</td>\n",
       "      <td>15000.000000</td>\n",
       "      <td>0.000000</td>\n",
       "    </tr>\n",
       "    <tr>\n",
       "      <th>25%</th>\n",
       "      <td>250.750000</td>\n",
       "      <td>32.000000</td>\n",
       "      <td>46375.000000</td>\n",
       "      <td>0.000000</td>\n",
       "    </tr>\n",
       "    <tr>\n",
       "      <th>50%</th>\n",
       "      <td>500.500000</td>\n",
       "      <td>40.000000</td>\n",
       "      <td>72000.000000</td>\n",
       "      <td>0.000000</td>\n",
       "    </tr>\n",
       "    <tr>\n",
       "      <th>75%</th>\n",
       "      <td>750.250000</td>\n",
       "      <td>48.000000</td>\n",
       "      <td>90000.000000</td>\n",
       "      <td>1.000000</td>\n",
       "    </tr>\n",
       "    <tr>\n",
       "      <th>max</th>\n",
       "      <td>1000.000000</td>\n",
       "      <td>63.000000</td>\n",
       "      <td>152500.000000</td>\n",
       "      <td>1.000000</td>\n",
       "    </tr>\n",
       "  </tbody>\n",
       "</table>\n",
       "</div>"
      ],
      "text/plain": [
       "           User ID          Age   AnnualSalary    Purchased\n",
       "count  1000.000000  1000.000000    1000.000000  1000.000000\n",
       "mean    500.500000    40.106000   72689.000000     0.402000\n",
       "std     288.819436    10.707073   34488.341867     0.490547\n",
       "min       1.000000    18.000000   15000.000000     0.000000\n",
       "25%     250.750000    32.000000   46375.000000     0.000000\n",
       "50%     500.500000    40.000000   72000.000000     0.000000\n",
       "75%     750.250000    48.000000   90000.000000     1.000000\n",
       "max    1000.000000    63.000000  152500.000000     1.000000"
      ]
     },
     "execution_count": 2,
     "metadata": {},
     "output_type": "execute_result"
    }
   ],
   "source": [
    "# Part 2 - Summarize variables\n",
    "print(\"Types of variables:\")\n",
    "print(car_data.dtypes, \"\\n\")\n",
    "\n",
    "car_data.info()\n",
    "car_data.describe()"
   ]
  },
  {
   "cell_type": "code",
   "execution_count": 3,
   "id": "22059101",
   "metadata": {},
   "outputs": [
    {
     "name": "stdout",
     "output_type": "stream",
     "text": [
      "There is no missing data in this dataset.\n",
      "\n",
      "Counts for missing data:\n"
     ]
    },
    {
     "data": {
      "text/plain": [
       "User ID         0\n",
       "Gender          0\n",
       "Age             0\n",
       "AnnualSalary    0\n",
       "Purchased       0\n",
       "dtype: int64"
      ]
     },
     "execution_count": 3,
     "metadata": {},
     "output_type": "execute_result"
    }
   ],
   "source": [
    "# Part 2 - Look for missing data\n",
    "print(\"There is no missing data in this dataset.\\n\")\n",
    "print(\"Counts for missing data:\")\n",
    "car_data.isnull().sum()"
   ]
  },
  {
   "cell_type": "code",
   "execution_count": 4,
   "id": "de486ae6",
   "metadata": {},
   "outputs": [
    {
     "name": "stdout",
     "output_type": "stream",
     "text": [
      "Gender value counts:\n",
      "Female    516\n",
      "Male      484\n",
      "Name: Gender, dtype: int64 \n",
      "\n",
      "Gender dummy value counts:\n",
      "1    516\n",
      "0    484\n",
      "Name: GenderDummy, dtype: int64\n"
     ]
    }
   ],
   "source": [
    "# Part 2 - Convert Gender variable into dummy variable\n",
    "print(\"Gender value counts:\")\n",
    "print(car_data[\"Gender\"].value_counts(), \"\\n\")\n",
    "\n",
    "car_data[\"GenderDummy\"] = 1\n",
    "car_data.loc[car_data[\"Gender\"] == \"Male\", \"GenderDummy\"] = 0\n",
    "print(\"Gender dummy value counts:\")\n",
    "print(car_data[\"GenderDummy\"].value_counts())"
   ]
  },
  {
   "cell_type": "code",
   "execution_count": 5,
   "id": "f6baf4c6",
   "metadata": {},
   "outputs": [],
   "source": [
    "# Part 2 - Create a matrix X of predictors and outcome y equaling Purchase\n",
    "X = car_data.loc[:, [\"Age\", \"AnnualSalary\"]]\n",
    "y = car_data[\"Purchased\"]"
   ]
  },
  {
   "cell_type": "code",
   "execution_count": 6,
   "id": "da9544d8",
   "metadata": {},
   "outputs": [
    {
     "data": {
      "text/html": [
       "<div>\n",
       "<style scoped>\n",
       "    .dataframe tbody tr th:only-of-type {\n",
       "        vertical-align: middle;\n",
       "    }\n",
       "\n",
       "    .dataframe tbody tr th {\n",
       "        vertical-align: top;\n",
       "    }\n",
       "\n",
       "    .dataframe thead th {\n",
       "        text-align: right;\n",
       "    }\n",
       "</style>\n",
       "<table border=\"1\" class=\"dataframe\">\n",
       "  <thead>\n",
       "    <tr style=\"text-align: right;\">\n",
       "      <th></th>\n",
       "      <th>Age</th>\n",
       "      <th>AnnualSalary</th>\n",
       "    </tr>\n",
       "  </thead>\n",
       "  <tbody>\n",
       "    <tr>\n",
       "      <th>count</th>\n",
       "      <td>1000.000000</td>\n",
       "      <td>1000.000000</td>\n",
       "    </tr>\n",
       "    <tr>\n",
       "      <th>mean</th>\n",
       "      <td>0.491244</td>\n",
       "      <td>0.419556</td>\n",
       "    </tr>\n",
       "    <tr>\n",
       "      <th>std</th>\n",
       "      <td>0.237935</td>\n",
       "      <td>0.250824</td>\n",
       "    </tr>\n",
       "    <tr>\n",
       "      <th>min</th>\n",
       "      <td>0.000000</td>\n",
       "      <td>0.000000</td>\n",
       "    </tr>\n",
       "    <tr>\n",
       "      <th>25%</th>\n",
       "      <td>0.311111</td>\n",
       "      <td>0.228182</td>\n",
       "    </tr>\n",
       "    <tr>\n",
       "      <th>50%</th>\n",
       "      <td>0.488889</td>\n",
       "      <td>0.414545</td>\n",
       "    </tr>\n",
       "    <tr>\n",
       "      <th>75%</th>\n",
       "      <td>0.666667</td>\n",
       "      <td>0.545455</td>\n",
       "    </tr>\n",
       "    <tr>\n",
       "      <th>max</th>\n",
       "      <td>1.000000</td>\n",
       "      <td>1.000000</td>\n",
       "    </tr>\n",
       "  </tbody>\n",
       "</table>\n",
       "</div>"
      ],
      "text/plain": [
       "               Age  AnnualSalary\n",
       "count  1000.000000   1000.000000\n",
       "mean      0.491244      0.419556\n",
       "std       0.237935      0.250824\n",
       "min       0.000000      0.000000\n",
       "25%       0.311111      0.228182\n",
       "50%       0.488889      0.414545\n",
       "75%       0.666667      0.545455\n",
       "max       1.000000      1.000000"
      ]
     },
     "execution_count": 6,
     "metadata": {},
     "output_type": "execute_result"
    }
   ],
   "source": [
    "# Part 3 - MaxMin-normalize Age and AnnualSalary in X  --> CHECK\n",
    "def maxmin(z):\n",
    "    z = (z - min(z))/(max(z)-min(z))\n",
    "    return z\n",
    "\n",
    "X = X.apply(maxmin)\n",
    "X.describe()"
   ]
  },
  {
   "cell_type": "code",
   "execution_count": 7,
   "id": "ea5d6d70",
   "metadata": {},
   "outputs": [],
   "source": [
    "# Part 4 - Split the sample into a a ~80% training dataset and a ~20% testing dataset\n",
    "from sklearn.model_selection import train_test_split\n",
    "\n",
    "X_train, X_test, y_train, y_test = train_test_split(X, y, test_size = 0.2, random_state = 10)"
   ]
  },
  {
   "cell_type": "code",
   "execution_count": 8,
   "id": "5489dc39",
   "metadata": {},
   "outputs": [
    {
     "name": "stdout",
     "output_type": "stream",
     "text": [
      "Optimal number of neightbors k to use is: k = [11]\n"
     ]
    },
    {
     "data": {
      "image/png": "[encoded data removed]",
      "text/plain": [
       "<Figure size 640x480 with 1 Axes>"
      ]
     },
     "metadata": {},
     "output_type": "display_data"
    }
   ],
   "source": [
    "# Part 5 - Determine the optimal number of neighbors k to use\n",
    "import matplotlib.pyplot as plt\n",
    "from sklearn.neighbors import KNeighborsClassifier\n",
    "\n",
    "k_bar = 30\n",
    "k_grid = np.arange(1, k_bar)\n",
    "\n",
    "SSE = np.zeros(k_bar)\n",
    "for k in range (k_bar):\n",
    "    model = KNeighborsClassifier(n_neighbors= k + 1)\n",
    "    fitted_model = model.fit(X_train, y_train)\n",
    "    y_hat = fitted_model.predict(X_test)\n",
    "    SSE[k] = np.sum( (y_test - y_hat)**2 )\n",
    "\n",
    "SSE_min = np.min(SSE)\n",
    "min_index = np.where(SSE == SSE_min)\n",
    "k_star = k_grid[min_index]\n",
    "print(\"Optimal number of neightbors k to use is: k = \" + str(k_star))\n",
    "\n",
    "plt.plot(np.arange(0, k_bar), SSE, label = \"Test\")\n",
    "plt.xlabel(\"k\")\n",
    "plt.ylabel(\"SSE\")\n",
    "plt.legend(loc = \"lower right\")\n",
    "plt.title(\"SSE\")\n",
    "plt.show()"
   ]
  },
  {
   "cell_type": "code",
   "execution_count": 9,
   "id": "2f9fe48f",
   "metadata": {},
   "outputs": [
    {
     "data": {
      "text/html": [
       "<div>\n",
       "<style scoped>\n",
       "    .dataframe tbody tr th:only-of-type {\n",
       "        vertical-align: middle;\n",
       "    }\n",
       "\n",
       "    .dataframe tbody tr th {\n",
       "        vertical-align: top;\n",
       "    }\n",
       "\n",
       "    .dataframe thead th {\n",
       "        text-align: right;\n",
       "    }\n",
       "</style>\n",
       "<table border=\"1\" class=\"dataframe\">\n",
       "  <thead>\n",
       "    <tr style=\"text-align: right;\">\n",
       "      <th>col_0</th>\n",
       "      <th>0</th>\n",
       "      <th>1</th>\n",
       "    </tr>\n",
       "    <tr>\n",
       "      <th>Purchased</th>\n",
       "      <th></th>\n",
       "      <th></th>\n",
       "    </tr>\n",
       "  </thead>\n",
       "  <tbody>\n",
       "    <tr>\n",
       "      <th>0</th>\n",
       "      <td>117</td>\n",
       "      <td>9</td>\n",
       "    </tr>\n",
       "    <tr>\n",
       "      <th>1</th>\n",
       "      <td>6</td>\n",
       "      <td>68</td>\n",
       "    </tr>\n",
       "  </tbody>\n",
       "</table>\n",
       "</div>"
      ],
      "text/plain": [
       "col_0        0   1\n",
       "Purchased         \n",
       "0          117   9\n",
       "1            6  68"
      ]
     },
     "execution_count": 9,
     "metadata": {},
     "output_type": "execute_result"
    }
   ],
   "source": [
    "# Part 6 - Run model for optimal number of neighbors on testing data\n",
    "model = KNeighborsClassifier(n_neighbors = 11)\n",
    "fitted_model = model.fit(X_train, y_train)\n",
    "y_hat = fitted_model.predict(X_test)\n",
    "\n",
    "# Cross tabulate predicted outcomes on actual outcomes\n",
    "pd.crosstab(y_test, y_hat)"
   ]
  },
  {
   "cell_type": "markdown",
   "id": "eab5868c",
   "metadata": {},
   "source": [
    "**RESPONSE FOR PART 6:**\\\n",
    "It appears that most of the cases are predicted correctly. The model predicted a sale 9 times when it failed to occur as seen by the 9 times a 0 was classified as a 1. The model predicted no sale when one did occur 6 times as seen by the 6 times a 1 was classifed as a 0. The proportion of incorrect predictions is 15/200 = 0.075 and the proportion of correct is 185/200 = 0.925. Therefore, the model provided fairly accurate predictions overall.\n"
   ]
  },
  {
   "cell_type": "code",
   "execution_count": 14,
   "id": "040010ff",
   "metadata": {},
   "outputs": [
    {
     "name": "stdout",
     "output_type": "stream",
     "text": [
      "Confusion matrix for women:\n"
     ]
    },
    {
     "data": {
      "text/html": [
       "<div>\n",
       "<style scoped>\n",
       "    .dataframe tbody tr th:only-of-type {\n",
       "        vertical-align: middle;\n",
       "    }\n",
       "\n",
       "    .dataframe tbody tr th {\n",
       "        vertical-align: top;\n",
       "    }\n",
       "\n",
       "    .dataframe thead th {\n",
       "        text-align: right;\n",
       "    }\n",
       "</style>\n",
       "<table border=\"1\" class=\"dataframe\">\n",
       "  <thead>\n",
       "    <tr style=\"text-align: right;\">\n",
       "      <th>col_0</th>\n",
       "      <th>0</th>\n",
       "      <th>1</th>\n",
       "    </tr>\n",
       "    <tr>\n",
       "      <th>Purchased</th>\n",
       "      <th></th>\n",
       "      <th></th>\n",
       "    </tr>\n",
       "  </thead>\n",
       "  <tbody>\n",
       "    <tr>\n",
       "      <th>0</th>\n",
       "      <td>44</td>\n",
       "      <td>14</td>\n",
       "    </tr>\n",
       "    <tr>\n",
       "      <th>1</th>\n",
       "      <td>9</td>\n",
       "      <td>30</td>\n",
       "    </tr>\n",
       "  </tbody>\n",
       "</table>\n",
       "</div>"
      ],
      "text/plain": [
       "col_0       0   1\n",
       "Purchased        \n",
       "0          44  14\n",
       "1           9  30"
      ]
     },
     "execution_count": 14,
     "metadata": {},
     "output_type": "execute_result"
    }
   ],
   "source": [
    "# Compute confusion matrices separately for men and women\n",
    "X = car_data.loc[:, [\"Age\", \"AnnualSalary\", \"Gender\"]]\n",
    "y = car_data[\"Purchased\"]\n",
    "X_train, X_test, y_train, y_test = train_test_split(X, y, test_size = 0.2, random_state = 10)\n",
    "\n",
    "model = KNeighborsClassifier(n_neighbors = 11)\n",
    "fitted_model = model.fit(X_train.drop(\"Gender\", axis = 1), y_train)\n",
    "y_hat = fitted_model.predict(X_test.drop(\"Gender\", axis = 1))\n",
    "\n",
    "y_hat_male = y_hat[X_test[\"Gender\"] == \"Male\"]\n",
    "y_hat_female = y_hat[X_test[\"Gender\"] == \"Female\"]\n",
    "y_male = y_test[X_test[\"Gender\"] == \"Male\"]\n",
    "y_female = y_test[X_test[\"Gender\"] == \"Female\"]\n",
    "\n",
    "print(\"Confusion matrix for women:\")\n",
    "pd.crosstab(y_female, y_hat_female)"
   ]
  },
  {
   "cell_type": "code",
   "execution_count": 15,
   "id": "ed962700",
   "metadata": {},
   "outputs": [
    {
     "name": "stdout",
     "output_type": "stream",
     "text": [
      "Confusion matrix for men:\n"
     ]
    },
    {
     "data": {
      "text/html": [
       "<div>\n",
       "<style scoped>\n",
       "    .dataframe tbody tr th:only-of-type {\n",
       "        vertical-align: middle;\n",
       "    }\n",
       "\n",
       "    .dataframe tbody tr th {\n",
       "        vertical-align: top;\n",
       "    }\n",
       "\n",
       "    .dataframe thead th {\n",
       "        text-align: right;\n",
       "    }\n",
       "</style>\n",
       "<table border=\"1\" class=\"dataframe\">\n",
       "  <thead>\n",
       "    <tr style=\"text-align: right;\">\n",
       "      <th>col_0</th>\n",
       "      <th>0</th>\n",
       "      <th>1</th>\n",
       "    </tr>\n",
       "    <tr>\n",
       "      <th>Purchased</th>\n",
       "      <th></th>\n",
       "      <th></th>\n",
       "    </tr>\n",
       "  </thead>\n",
       "  <tbody>\n",
       "    <tr>\n",
       "      <th>0</th>\n",
       "      <td>57</td>\n",
       "      <td>11</td>\n",
       "    </tr>\n",
       "    <tr>\n",
       "      <th>1</th>\n",
       "      <td>11</td>\n",
       "      <td>24</td>\n",
       "    </tr>\n",
       "  </tbody>\n",
       "</table>\n",
       "</div>"
      ],
      "text/plain": [
       "col_0       0   1\n",
       "Purchased        \n",
       "0          57  11\n",
       "1          11  24"
      ]
     },
     "execution_count": 15,
     "metadata": {},
     "output_type": "execute_result"
    }
   ],
   "source": [
    "print(\"Confusion matrix for men:\")\n",
    "pd.crosstab(y_male, y_hat_male)"
   ]
  },
  {
   "cell_type": "markdown",
   "id": "273d6231",
   "metadata": {},
   "source": [
    "**RESPONSE FOR PART 7:**\\\n",
    "Looking at the confusion matrix for women it seems that about 74/97 = 0.76 of predictions are correct while for men it seems that about 81/103 = 0.79 of predictions are correct. Based on these proportions, it appears that the model makes more accurate predictions for men rather than women. "
   ]
  },
  {
   "cell_type": "markdown",
   "id": "71c9e0b8-17f5-4ff9-9c76-2034bffe8d5c",
   "metadata": {},
   "source": [
    "**Q2.** This question is a case study for $k$ nearest neighbor The target variable `y` is `price` and the features are `year` and `mileage`.\n",
    "\n",
    "1. Load the `./data/USA_cars_datasets.csv`. Keep the following variables and drop the rest: `price`, `year`, `mileage`. Are there any `NA`'s to handle? Look at the head and dimensions of the data.\n",
    "2. Maxmin normalize `year` and `mileage`.\n",
    "3. Split the sample into ~80% for training and ~20% for evaluation.\n",
    "4. Use the $k$NN algorithm for regression and the training data to predict `price` using `year` and `mileage` for the test set for $k=3,10,25,50,100,300$. For each value of $k$, compute the Sum of Squared Error and make a scatterplot showing the test value plotted against the predicted value. What patterns do you notice as you increase $k$?\n",
    "5. Determine the optimal $k$ for these data.\n",
    "6. Describe what happened in the plots of predicted versus actual prices as $k$ varied, taking your answer into part 6 into account. (Hint: Use the words \"underfitting\" and \"overfitting\".)"
   ]
  },
  {
   "cell_type": "code",
   "execution_count": 18,
   "id": "c20fdda4",
   "metadata": {},
   "outputs": [
    {
     "name": "stdout",
     "output_type": "stream",
     "text": [
      "The dataset doesn't contain missing values.\n",
      "Cars dataset shape: (2499, 3)\n"
     ]
    },
    {
     "data": {
      "text/html": [
       "<div>\n",
       "<style scoped>\n",
       "    .dataframe tbody tr th:only-of-type {\n",
       "        vertical-align: middle;\n",
       "    }\n",
       "\n",
       "    .dataframe tbody tr th {\n",
       "        vertical-align: top;\n",
       "    }\n",
       "\n",
       "    .dataframe thead th {\n",
       "        text-align: right;\n",
       "    }\n",
       "</style>\n",
       "<table border=\"1\" class=\"dataframe\">\n",
       "  <thead>\n",
       "    <tr style=\"text-align: right;\">\n",
       "      <th></th>\n",
       "      <th>price</th>\n",
       "      <th>year</th>\n",
       "      <th>mileage</th>\n",
       "    </tr>\n",
       "  </thead>\n",
       "  <tbody>\n",
       "    <tr>\n",
       "      <th>0</th>\n",
       "      <td>6300</td>\n",
       "      <td>2008</td>\n",
       "      <td>274117</td>\n",
       "    </tr>\n",
       "    <tr>\n",
       "      <th>1</th>\n",
       "      <td>2899</td>\n",
       "      <td>2011</td>\n",
       "      <td>190552</td>\n",
       "    </tr>\n",
       "    <tr>\n",
       "      <th>2</th>\n",
       "      <td>5350</td>\n",
       "      <td>2018</td>\n",
       "      <td>39590</td>\n",
       "    </tr>\n",
       "    <tr>\n",
       "      <th>3</th>\n",
       "      <td>25000</td>\n",
       "      <td>2014</td>\n",
       "      <td>64146</td>\n",
       "    </tr>\n",
       "    <tr>\n",
       "      <th>4</th>\n",
       "      <td>27700</td>\n",
       "      <td>2018</td>\n",
       "      <td>6654</td>\n",
       "    </tr>\n",
       "  </tbody>\n",
       "</table>\n",
       "</div>"
      ],
      "text/plain": [
       "   price  year  mileage\n",
       "0   6300  2008   274117\n",
       "1   2899  2011   190552\n",
       "2   5350  2018    39590\n",
       "3  25000  2014    64146\n",
       "4  27700  2018     6654"
      ]
     },
     "execution_count": 18,
     "metadata": {},
     "output_type": "execute_result"
    }
   ],
   "source": [
    "# Part 1 - Load the data and drop variables\n",
    "cars = pd.read_csv(\"./data/USA_cars_datasets.csv\")\n",
    "cars = cars[[\"price\", \"year\", \"mileage\"]]\n",
    "\n",
    "# Look for NAs\n",
    "if cars.isnull().sum().sum() > 0 :\n",
    "  print(\"The dataset contains missing values.\")\n",
    "else:\n",
    "  print(\"The dataset doesn't contain missing values.\")\n",
    "\n",
    "# Examine head and dimensions of the data\n",
    "print(\"Cars dataset shape:\", cars.shape)\n",
    "cars.head()"
   ]
  },
  {
   "cell_type": "code",
   "execution_count": 20,
   "id": "ebdc3be4",
   "metadata": {},
   "outputs": [
    {
     "data": {
      "text/html": [
       "<div>\n",
       "<style scoped>\n",
       "    .dataframe tbody tr th:only-of-type {\n",
       "        vertical-align: middle;\n",
       "    }\n",
       "\n",
       "    .dataframe tbody tr th {\n",
       "        vertical-align: top;\n",
       "    }\n",
       "\n",
       "    .dataframe thead th {\n",
       "        text-align: right;\n",
       "    }\n",
       "</style>\n",
       "<table border=\"1\" class=\"dataframe\">\n",
       "  <thead>\n",
       "    <tr style=\"text-align: right;\">\n",
       "      <th></th>\n",
       "      <th>year</th>\n",
       "      <th>mileage</th>\n",
       "    </tr>\n",
       "  </thead>\n",
       "  <tbody>\n",
       "    <tr>\n",
       "      <th>count</th>\n",
       "      <td>2499.000000</td>\n",
       "      <td>2499.000000</td>\n",
       "    </tr>\n",
       "    <tr>\n",
       "      <th>mean</th>\n",
       "      <td>0.930091</td>\n",
       "      <td>0.051377</td>\n",
       "    </tr>\n",
       "    <tr>\n",
       "      <th>std</th>\n",
       "      <td>0.073248</td>\n",
       "      <td>0.058654</td>\n",
       "    </tr>\n",
       "    <tr>\n",
       "      <th>min</th>\n",
       "      <td>0.000000</td>\n",
       "      <td>0.000000</td>\n",
       "    </tr>\n",
       "    <tr>\n",
       "      <th>25%</th>\n",
       "      <td>0.914894</td>\n",
       "      <td>0.021088</td>\n",
       "    </tr>\n",
       "    <tr>\n",
       "      <th>50%</th>\n",
       "      <td>0.957447</td>\n",
       "      <td>0.034742</td>\n",
       "    </tr>\n",
       "    <tr>\n",
       "      <th>75%</th>\n",
       "      <td>0.978723</td>\n",
       "      <td>0.062354</td>\n",
       "    </tr>\n",
       "    <tr>\n",
       "      <th>max</th>\n",
       "      <td>1.000000</td>\n",
       "      <td>1.000000</td>\n",
       "    </tr>\n",
       "  </tbody>\n",
       "</table>\n",
       "</div>"
      ],
      "text/plain": [
       "              year      mileage\n",
       "count  2499.000000  2499.000000\n",
       "mean      0.930091     0.051377\n",
       "std       0.073248     0.058654\n",
       "min       0.000000     0.000000\n",
       "25%       0.914894     0.021088\n",
       "50%       0.957447     0.034742\n",
       "75%       0.978723     0.062354\n",
       "max       1.000000     1.000000"
      ]
     },
     "execution_count": 20,
     "metadata": {},
     "output_type": "execute_result"
    }
   ],
   "source": [
    "# Part 2 - Maxmin normalize year and mileage\n",
    "X = cars.loc[:, [\"year\", \"mileage\"]]\n",
    "y = cars[\"price\"]\n",
    "\n",
    "def maxmin(z):\n",
    "    z = (z - min(z))/(max(z)-min(z))\n",
    "    return z\n",
    "\n",
    "X = X.apply(maxmin)\n",
    "X.describe()"
   ]
  },
  {
   "cell_type": "code",
   "execution_count": 21,
   "id": "26d3c51f",
   "metadata": {},
   "outputs": [],
   "source": [
    "# Part 3 - Split the same into ~80% for training and ~20% for evaluation\n",
    "X_train, X_test, y_train, y_test = train_test_split(X, y, test_size = 0.2, random_state = 10)"
   ]
  },
  {
   "cell_type": "code",
   "execution_count": null,
   "id": "1398ce1e",
   "metadata": {},
   "outputs": [],
   "source": [
    "# Part 4 - Use kNN for regression to predict using year and mileage\n"
   ]
  },
  {
   "cell_type": "markdown",
   "id": "687e769b",
   "metadata": {},
   "source": [
    "**RESPONSE FOR PART 5:**\\"
   ]
  },
  {
   "cell_type": "markdown",
   "id": "1ae1583d",
   "metadata": {},
   "source": [
    "**RESPONSE FOR PART 6:**\\"
   ]
  },
  {
   "cell_type": "markdown",
   "id": "010b57f7-bf4f-4494-b54c-49c4f3ae3ab9",
   "metadata": {},
   "source": [
    "**Q3.** This question is a case study for $k$ nearest neighbor, particularly variable selection. The data for the question include (summaries reproduced here directly from the codebook):\n",
    "\n",
    "- age: age of the patient (years)\n",
    "- anaemia: decrease of red blood cells or hemoglobin (boolean)\n",
    "- high blood pressure: if the patient has hypertension (boolean)\n",
    "- creatinine phosphokinase (CPK): level of the CPK enzyme in the blood (mcg/L)\n",
    "- diabetes: if the patient has diabetes (boolean)\n",
    "- ejection fraction: percentage of blood leaving the heart at each contraction (percentage)\n",
    "- platelets: platelets in the blood (kiloplatelets/mL)\n",
    "- sex: woman or man (binary)\n",
    "- serum creatinine: level of serum creatinine in the blood (mg/dL)\n",
    "- serum sodium: level of serum sodium in the blood (mEq/L)\n",
    "- smoking: if the patient smokes or not (boolean)\n",
    "- time: follow-up period (days)\n",
    "- death event: if the patient deceased during the follow-up period (boolean)\n",
    "\n",
    "1. Load the `./data/heart_failure_clinical_records_dataset.csv`. Are there any `NA`'s to handle? use `.drop()` to remove `time` from the dataframe.\n",
    "2. Make a correlation matrix. What variables are strongly associated with a death event?\n",
    "3. For the dummy variables `anaemia`, `diabetes`, `high_blood_pressure`, `sex`, and `smoking`, compute a summary table of `DEATH_EVENT` grouped by the variable. For which variables does a higher proportion of the population die when the variable takes the value 1 rather than 0?\n",
    "4. On the basis of your answers from 2 and 3, build a matrix $X$ of the variables you think are most predictive of a death, and a variable $y$ equal to `DEATH_EVENT`.\n",
    "5. Maxmin normalize all of the variables in `X`.\n",
    "6. Split the sample into ~80% for training and ~20% for evaluation. (Try to use the same train/test split for the whole question, so that you're comparing apples to apples in the questions below.).\n",
    "7. Determine the optimal number of neighbors for a $k$NN regression for the variables you selected.\n",
    "8. OK, do steps 5 through 7 again, but use all of the variables (except `time`). Which model has a lower Sum of Squared Error? Which would you prefer to use in practice, if you had to predict `DEATH_EVENT`s? If you play with the selection of variables, how much does the SSE change for your fitted model on the test data? Are more variables better, in this case? Explain your findings."
   ]
  },
  {
   "cell_type": "markdown",
   "id": "d457e190-d273-455f-b94f-62916cb5af1c",
   "metadata": {},
   "source": [
    "**Q4.** Let's do some very basic computer vision. We're going to import the MNIST handwritten digits data and $k$NN to predict values (i.e. \"see/read\").\n",
    "\n",
    "1. To load the data, run the following code in a chunk:\n",
    "```\n",
    "from keras.datasets import mnist\n",
    "df = mnist.load_data('minst.db')\n",
    "train,test = df\n",
    "X_train, y_train = train\n",
    "X_test, y_test = test\n",
    "```\n",
    "The `y_test` and `y_train` vectors, for each index `i`, tell you want number is written in the corresponding index in `X_train[i]` and `X_test[i]`. The value of `X_train[i]` and `X_test[i]`, however, is a 28$\\times$28 array whose entries contain values between 0 and 256. Each element of the matrix is essentially a \"pixel\" and the matrix encodes a representation of a number. To visualize this, run the following code to see the first ten numbers:\n",
    "```\n",
    "import matplotlib.pyplot as plt\n",
    "import numpy as np\n",
    "np.set_printoptions(edgeitems=30, linewidth=100000)\n",
    "for i in range(5): \n",
    "    print(y_test[i],'\\n') # Print the label\n",
    "    print(X_test[i],'\\n') # Print the matrix of values\n",
    "    plt.contourf(np.rot90(X_test[i].transpose())) # Make a contour plot of the matrix values\n",
    "    plt.show()\n",
    "```\n",
    "OK, those are the data: Labels attached to handwritten digits encoded as a matrix.\n",
    "\n",
    "2. What is the shape of `X_train` and `X_test`? What is the shape of `X_train[i]` and `X_test[i]` for each index `i`? What is the shape of `y_train` and `y_test`?\n",
    "3. Use Numpy's `.reshape()` method to covert the training and testing data from a matrix into an vector of features. So, `X_test[index].reshape((1,784))` will convert the $index$-th element of `X_test` into a $28\\times 28=784$-length row vector of values, rather than a matrix. Turn `X_train` into an $N \\times 784$ matrix $X$ that is suitable for scikit-learn's kNN classifier where $N$ is the number of observations and $784=28*28$ (you could use, for example, a `for` loop).\n",
    "4. Use the reshaped `X_test` and `y_test` data to create a $k$-nearest neighbor classifier of digit. What is the optimal number of neighbors $k$? If you can't determine this, play around with different values of $k$ for your classifier.\n",
    "5. For the optimal number of neighbors, how well does your predictor perform on the test set?\n",
    "6. So, this is how computers \"see.\" They convert an image into a matrix of values, that matrix becomes a vector in a dataset, and then we deploy ML tools on it as if it was any other kind of tabular data. To make sure you follow this, invent a way to represent a color photo in matrix form, and then describe how you could convert it into tabular data. (Hint: RGB color codes provide a method of encoding a numeric value that represents a color.)"
   ]
  },
  {
   "cell_type": "markdown",
   "id": "9a83222f-16f1-47a1-bd92-91dd4bd4ab8d",
   "metadata": {},
   "source": [
    "**Q5.** This question is a case study for $k$ means clustering.\n",
    "\n",
    "1. Load the `airbnb_hw.csv` data. Clean `Price` along with `Beds`, `Number of Reviews`, and `Review Scores Rating`.\n",
    "2. Maxmin normalize the data and remove any `nan`'s (`KMeans` from `sklearn` doesn't accept `nan` input).\n",
    "3. Use `sklearn`'s `KMeans` module to cluster the data by `Beds`, `Number of Reviews`, and `Review Scores Rating` for `k=6`.\n",
    "4. Use `seaborn`'s `.pairplot()` to make a grid of scatterplots that show how the clustering is carried out in multiple dimensions.\n",
    "5. Use `.groupby` and `.describe` to compute the average price for each cluster. Which clusters have the highest rental prices?\n",
    "6. Use a scree plot to pick the number of clusters and repeat steps 4 and 5."
   ]
  },
  {
   "cell_type": "markdown",
   "id": "d765b942-0ddf-4d42-adbf-8b64eeabf4c9",
   "metadata": {},
   "source": [
    "**Q6.** This is a question about $k$ means clustering. We want to investigate how adjusting the \"noisiness\" of the data impacts the quality of the algorithm and the difficulty of picking $k$.\n",
    "\n",
    "1. Run the code below, which creates four datasets: `df0_125`, `df0_25`, `df0_5`, `df1_0`, and `df2_0`. Each data set is created by increasing the amount of `noise` (standard deviation) around the cluster centers, from `0.125` to `0.25` to `0.5` to `1.0` to `2.0`.\n",
    "\n",
    "```\n",
    "import numpy as np\n",
    "import pandas as pd\n",
    "\n",
    "def createData(noise,N=50):\n",
    "    np.random.seed(100) # Set the seed for replicability\n",
    "    # Generate (x1,x2,g) triples:\n",
    "    X1 = np.array([np.random.normal(1,1,N),np.random.normal(1,1,N)])\n",
    "    X2 = np.array([np.random.normal(3,1,N),np.random.normal(2,1,N)])\n",
    "    X3 = np.array([np.random.normal(5,1,N),np.random.normal(3,1,N)])\n",
    "    # Concatenate into one data frame\n",
    "    gdf1 = pd.DataFrame({'x1':X1[0,:],'x2':X1[1,:],'group':'a'})\n",
    "    gdf2 = pd.DataFrame({'x1':X2[0,:],'x2':X2[1,:],'group':'b'})\n",
    "    gdf3 = pd.DataFrame({'x1':X3[0,:],'x2':X3[1,:],'group':'c'})\n",
    "    df = pd.concat([gdf1,gdf2,gdf3],axis=0)\n",
    "    return df\n",
    "\n",
    "df0_125 = createData(0.125)\n",
    "df0_25 = createData(0.25)\n",
    "df0_5 = createData(0.5)\n",
    "df1_0 = createData(1.0)\n",
    "df2_0 = createData(2.0)\n",
    "```\n",
    "\n",
    "2. Make scatterplots of the $(X1,X2)$ points by group for each of the datasets. As the `noise` goes up from 0.125 to 2.0, what happens to the visual distinctness of the clusters?\n",
    "3. Create a scree plot for each of the datasets. Describe how the level of `noise` affects the scree plot (particularly the presence of a clear \"elbow\") and your ability to definitively select a $k$.\n",
    "4. Explain the intuition of the elbow, using this numerical simulation as an example."
   ]
  },
  {
   "cell_type": "markdown",
   "id": "3c73207b-3ca0-4fe7-a561-5380f683498e",
   "metadata": {},
   "source": [
    "**Q7.** We looked at computer vision with $k$NN in a previous question. Can $k$ means clustering correctly group digits, even if we don't know which symbols are which? \n",
    "\n",
    "1. To load the data, run the following code in a chunk:\n",
    "```\n",
    "from keras.datasets import mnist\n",
    "df = mnist.load_data('minst.db')\n",
    "train,test = df\n",
    "X_train, y_train = train\n",
    "X_test, y_test = test\n",
    "```\n",
    "The `y_test` and `y_train` vectors, for each index `i`, tell you want number is written in the corresponding index in `X_train[i]` and `X_test[i]`. The value of `X_train[i]` and `X_test[i]`, however, is a 28$\\times$28 array whose entries contain values between 0 and 256. Each element of the matrix is essentially a \"pixel\" and the matrix encodes a representation of a number. To visualize this, run the following code to see the first ten numbers:\n",
    "```\n",
    "import matplotlib.pyplot as plt\n",
    "import numpy as np\n",
    "np.set_printoptions(edgeitems=30, linewidth=100000)\n",
    "for i in range(5): \n",
    "    print(y_test[i],'\\n') # Print the label\n",
    "    print(X_test[i],'\\n') # Print the matrix of values\n",
    "    plt.contourf(np.rot90(X_test[i].transpose())) # Make a contour plot of the matrix values\n",
    "    plt.show()\n",
    "```\n",
    "OK, those are the data: Labels attached to handwritten digits encoded as a matrix.\n",
    "\n",
    "2. What is the shape of `X_train` and `X_test`? What is the shape of `X_train[i]` and `X_test[i]` for each index `i`? What is the shape of `y_train` and `y_test`?\n",
    "3. Use Numpy's `.reshape()` method to covert the training and testing data from a matrix into an vector of features. So, `X_test[index].reshape((1,784))` will convert the $index$-th element of `X_test` into a $28\\times 28=784$-length row vector of values, rather than a matrix. Turn `X_train` into an $N \\times 784$ matrix $X$ that is suitable for scikit-learn's kNN classifier where $N$ is the number of observations and $784=28*28$ (you could use, for example, a `for` loop).\n",
    "4. Use $k$ means clustering on the reshaped `X_test` data with `k=10`.  \n",
    "5. Cross tabulate the cluster assignments with the true labels for the test set values. How good is the correspondence? What proportion of digits are clustered correctly? Which digits are the hardest to distinguish from one another? Can $k$MC recover the latent digits 0 to 9, without even knowing what those digits were?\n",
    "6. If you use a scree plot to determine the number of clusters $k$, does it pick 10 (the true number of digits), or not? If it fails to pick $k=10$, which digits does it tend to combine into the same classification?"
   ]
  }
 ],
 "metadata": {
  "kernelspec": {
   "display_name": "Python 3 (ipykernel)",
   "language": "python",
   "name": "python3"
  },
  "language_info": {
   "codemirror_mode": {
    "name": "ipython",
    "version": 3
   },
   "file_extension": ".py",
   "mimetype": "text/x-python",
   "name": "python",
   "nbconvert_exporter": "python",
   "pygments_lexer": "ipython3",
   "version": "3.11.1"
  }
 },
 "nbformat": 4,
 "nbformat_minor": 5
}
